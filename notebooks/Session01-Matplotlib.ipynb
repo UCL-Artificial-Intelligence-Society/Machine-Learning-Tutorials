{
 "cells": [
  {
   "cell_type": "markdown",
   "metadata": {},
   "source": [
    "# UCL AI Society Machine Learning Tutorials\n",
    "### Session 01. Introduction to Numpy, Pandas and Matplotlib"
   ]
  },
  {
   "cell_type": "markdown",
   "metadata": {},
   "source": [
    "### Contents\n",
    "1. Numpy\n",
    "2. Pandas\n",
    "3. Matplotlib\n",
    "4. EDA(Exploratory Data Analysis)\n",
    "\n",
    "### Aim\n",
    "At the end of this session, you will be able to:\n",
    "- Understand the basics of numpy.\n",
    "- Understand the basics of pandas.\n",
    "- Understand the basics of matplotlib.\n",
    "- Perform a simple EDA using libraries above."
   ]
  },
  {
   "cell_type": "markdown",
   "metadata": {},
   "source": [
    "## 3. Matplotlib\n",
    "Matplotlib is a Python data visualisation library. Its plotting system is similar to that of MATLAB."
   ]
  },
  {
   "cell_type": "markdown",
   "metadata": {},
   "source": [
    "### 3.1 Basics of Matplotlib"
   ]
  },
  {
   "cell_type": "code",
   "execution_count": null,
   "metadata": {},
   "outputs": [],
   "source": [
    "# run this cell if you haven't installed matplotlib\n",
    "!pip install matplotlib"
   ]
  },
  {
   "cell_type": "markdown",
   "metadata": {},
   "source": [
    "- `%matplotlib inline` is only available for Jupyter Notebook and Jupyter QtConsole. With this backend, the output of your command will be displayed inline with frontends, directly below the code cell that produces it.\n",
    "- `%matplotlib tk` is also only available for Jupyter Notebook. The output of your command will be displayed on a new broswer."
   ]
  },
  {
   "cell_type": "code",
   "execution_count": null,
   "metadata": {},
   "outputs": [],
   "source": [
    "import numpy as np\n",
    "import pandas as pd\n",
    "import matplotlib.pyplot as plt\n",
    "%matplotlib inline\n",
    "# %matplotlib tk"
   ]
  },
  {
   "cell_type": "markdown",
   "metadata": {},
   "source": [
    "Plot a **y=sin(x)** graph."
   ]
  },
  {
   "cell_type": "code",
   "execution_count": null,
   "metadata": {},
   "outputs": [],
   "source": [
    "# declare x and y \n",
    "x = np.arange(0, 3 * np.pi, 0.1)\n",
    "y = np.sin(x)\n",
    "print(x)\n",
    "print(y)\n",
    "assert len(x)==len(y)"
   ]
  },
  {
   "cell_type": "code",
   "execution_count": null,
   "metadata": {},
   "outputs": [],
   "source": [
    "# plot a graph of sin(x)\n",
    "plt.plot(x, y)\n",
    "plt.xlabel('x')\n",
    "plt.ylabel('y')\n",
    "plt.grid()\n",
    "plt.title('y = sin(x)')\n",
    "plt.show()\n",
    "# plt.savefig('./image/sinGraph.png')"
   ]
  },
  {
   "cell_type": "markdown",
   "metadata": {},
   "source": [
    "Plot multiple functions: **y = x**, **y = x^2**, and **y = x^3** in one graph."
   ]
  },
  {
   "cell_type": "code",
   "execution_count": null,
   "metadata": {},
   "outputs": [],
   "source": [
    "# TODO: plot multiple graphs in one graph\n",
    "x = np.arange(10)\n",
    "x_linear = None\n",
    "x_square = None\n",
    "x_cubic = None\n",
    "\n",
    "plt.plot(x, None)\n",
    "plt.plot(x, None)\n",
    "plt.plot(x, None)\n",
    "plt.xlabel('x axis')\n",
    "plt.ylabel('y axis')\n",
    "plt.grid()\n",
    "plt.legend(['y = x', 'y = x^2', 'y = x^3'])\n",
    "plt.title('y = x | y = x^2 | y = x^3')\n",
    "# TODO: print out the graph under this cell"
   ]
  },
  {
   "cell_type": "markdown",
   "metadata": {},
   "source": [
    "### 3.2 Various Types of Plots\n",
    "Matplotlib library supports various types of graphs such as bar graph, histogram, scatter plot, area plot and pie plot. Let's use IMDB-Movie-Data again to get a better understanding of the data. Visualising data is a crucial part of EDA, which you'll get hands-on experience soon!"
   ]
  },
  {
   "cell_type": "code",
   "execution_count": null,
   "metadata": {},
   "outputs": [],
   "source": [
    "movie = pd.None(\"./data/IMDB-Movie-Data.csv\")\n",
    "movie.columns"
   ]
  },
  {
   "cell_type": "markdown",
   "metadata": {},
   "source": [
    "Let's see if there is a positive correlation between `Rating` and `Revenue (Millions)` using `scatter` function. Parameter `s` controls the diameter / size of the scattered dots and `alpha` controls the degree of their transparency."
   ]
  },
  {
   "cell_type": "markdown",
   "metadata": {},
   "source": [
    "#### 3.2.1 Scatter plot"
   ]
  },
  {
   "cell_type": "code",
   "execution_count": null,
   "metadata": {
    "scrolled": false
   },
   "outputs": [],
   "source": [
    "movie.plot.scatter(x = 'Rating', y = 'Revenue (Millions)', s = 10, alpha = 1)"
   ]
  },
  {
   "cell_type": "markdown",
   "metadata": {},
   "source": [
    "They seem to have a bit of positive relationship."
   ]
  },
  {
   "cell_type": "markdown",
   "metadata": {},
   "source": [
    "#### 3.2.2 Bar plot\n",
    "Let's look into the Most Used Programming, Scripting, and Markup Languages in 2018.  \n",
    "Use `plt.bar` and `plt.xticks` to plot a 'language against Percentage' graph."
   ]
  },
  {
   "cell_type": "code",
   "execution_count": null,
   "metadata": {},
   "outputs": [],
   "source": [
    "# https://insights.stackoverflow.com/survey/2018#most-popular-technologies\n",
    "language = [\"JS\", \"HTML\", \"CSS\", \"SQL\", \"Java\", \"Shell\", \"Python\", \"C#\"]\n",
    "percentage = [69.8, 68.5, 65.1, 57.0, 45.3, 39.8, 38.8, 34.4]\n",
    "\n",
    "# Generating the y positions\n",
    "y_positions = range(len(percentage))\n",
    "\n",
    "# To Do: Create a bar plot\n",
    "plt.bar(None, None)\n",
    "plt.xticks(None, None)\n",
    "plt.xlabel('language')\n",
    "plt.ylabel('Percentage (%)')\n",
    "plt.title(\"Most Used Programming, Scripting, and Markup Languages in 2018\")\n",
    "plt.show()"
   ]
  },
  {
   "cell_type": "markdown",
   "metadata": {},
   "source": [
    "### 3.3 (Advanced) Matplotlib Exercise"
   ]
  },
  {
   "cell_type": "code",
   "execution_count": null,
   "metadata": {
    "scrolled": true
   },
   "outputs": [],
   "source": [
    "# TODO: Draw 4 graphs in total in one figure\n",
    "# Hint: https://matplotlib.org/api/_as_gen/matplotlib.pyplot.subplots.html\n",
    "# You can see great example code from the url above\n",
    "\n",
    "fig, axes = plt.None(None, None)  # this is where you need to use subplots\n",
    "\n",
    "# TODO: Scatter Graph (Upper left)\n",
    "x = np.random.randn(50)\n",
    "y = np.random.randn(50)\n",
    "colors = np.random.randint(0, 100, 50)\n",
    "sizes = 500 * np.pi * np.random.rand(50) ** 2\n",
    "axes[None, None].scatter(None)\n",
    "\n",
    "\n",
    "# TODO: Bar Graph (Upper right)\n",
    "x = np.arange(10)\n",
    "axes[None, None].bar(x, x ** 2)\n",
    "\n",
    "# TODO: Multi-Bar Graph (Lower left) -> Understand how it works!!\n",
    "x = np.random.rand(3)\n",
    "y = np.random.rand(3)\n",
    "z = np.random.rand(3)\n",
    "data = [x, y, z]\n",
    "\n",
    "x_ax = np.arange(3)\n",
    "for i in x_ax:\n",
    "    axes[1, 0].bar(x_ax, data[i], bottom=np.sum(data[:i], axis=0))\n",
    "axes[1, 0].set_xticks(x_ax)\n",
    "axes[1, 0].set_xticklabels(['A', 'B', 'C'])\n",
    "\n",
    "# TODO: Histogram Graph (Lower right)\n",
    "data = np.random.randn(1000)\n",
    "axes[None][None].hist(data, bins=40)\n",
    "\n",
    "# TODO: Either show the image or save it to png file\n",
    "None"
   ]
  },
  {
   "cell_type": "markdown",
   "metadata": {},
   "source": [
    "### What to do next?\n",
    "Below websites would be helpful for your further study on matplotlib:\n",
    "- [DataCamp Matplotlib Tutorial: Python Plotting](https://www.datacamp.com/community/tutorials/matplotlib-tutorial-python)\n",
    "- [Matplotlib official website](https://matplotlib.org/#)\n",
    "- [Python Plotting With Matplotlib (Guide)](https://realpython.com/python-matplotlib-guide/)\n",
    "- [Different plotting using pandas and matplotlib](https://www.geeksforgeeks.org/different-plotting-using-pandas-and-matplotlib/)\n",
    "- [Matplotlib tutorial for beginner](https://github.com/rougier/matplotlib-tutorial)"
   ]
  }
 ],
 "metadata": {
  "kernelspec": {
   "display_name": "Python 3",
   "language": "python",
   "name": "python3"
  },
  "language_info": {
   "codemirror_mode": {
    "name": "ipython",
    "version": 3
   },
   "file_extension": ".py",
   "mimetype": "text/x-python",
   "name": "python",
   "nbconvert_exporter": "python",
   "pygments_lexer": "ipython3",
   "version": "3.7.0"
  }
 },
 "nbformat": 4,
 "nbformat_minor": 2
}
