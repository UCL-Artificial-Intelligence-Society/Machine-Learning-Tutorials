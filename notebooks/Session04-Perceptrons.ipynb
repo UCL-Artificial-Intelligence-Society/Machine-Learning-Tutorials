{
 "cells": [
  {
   "cell_type": "code",
   "execution_count": null,
   "metadata": {},
   "outputs": [],
   "source": [
    "import numpy as np"
   ]
  },
  {
   "cell_type": "markdown",
   "metadata": {},
   "source": [
    "### Useful Resources for this notebook\n",
    "- [perceptron logic gates medium post](https://medium.com/@stanleydukor/neural-representation-of-and-or-not-xor-and-xnor-logic-gates-perceptron-algorithm-b0275375fea1)\n",
    "- [perceptron geeks for geeks](https://www.geeksforgeeks.org/perceptron-algorithm-for-logic-gate-with-3-bit-binary-input/)\n",
    "- [Youtube 'The Coding Train' - Multilayer perceptron](https://www.youtube.com/watch?v=u5GAVdLQyIg) (very good explanation. Thanks Coding Train!)"
   ]
  },
  {
   "cell_type": "markdown",
   "metadata": {},
   "source": [
    "## Single layer Perceptron"
   ]
  },
  {
   "cell_type": "markdown",
   "metadata": {},
   "source": [
    "![perceptron](https://miro.medium.com/max/1400/0*LaXMcr3mL9jQ183s)"
   ]
  },
  {
   "cell_type": "code",
   "execution_count": null,
   "metadata": {},
   "outputs": [],
   "source": [
    "# Heavyside Step function\n",
    "def activation_fn(y):\n",
    "    if y <= 0:\n",
    "        return 0\n",
    "    else:\n",
    "        return 1"
   ]
  },
  {
   "cell_type": "code",
   "execution_count": null,
   "metadata": {},
   "outputs": [],
   "source": [
    "def AND_gate(x1, x2):\n",
    "    x = np.array([x1, x2])\n",
    "\n",
    "    # setting both weights to 0.5\n",
    "    w = np.array([0.5, 0.5])\n",
    "\n",
    "    # setting a bias that will make this function an AND_gate\n",
    "    b = -1 * w[0]\n",
    "\n",
    "    # forming a perceptron that outputs y\n",
    "    y = np.sum(w * x) + b\n",
    "\n",
    "    # y goes thourgh a non-linear activation function\n",
    "    return activation_fn(y)"
   ]
  },
  {
   "cell_type": "code",
   "execution_count": null,
   "metadata": {},
   "outputs": [],
   "source": [
    "# TODO: Make an OR_gate\n",
    "def OR_gate(x1, x2):\n",
    "    x = np.array([x1, x2])\n",
    "    w = np.array([0.5, 0.5])\n",
    "    # you can set bias with just a single number (can be an integer or a float) \n",
    "    # You can either calculate a condition for b or try out different values.\n",
    "    b = None\n",
    "    y = None\n",
    "\n",
    "    return activation_fn(y)"
   ]
  },
  {
   "cell_type": "code",
   "execution_count": null,
   "metadata": {},
   "outputs": [],
   "source": [
    "# TODO: Make a NAND_gate\n",
    "def NAND_gate(x1, x2):\n",
    "    x = np.array([x1, x2])\n",
    "    w = np.array([-0.5, -0.5])\n",
    "    b = None\n",
    "    y = None\n",
    "\n",
    "    return activation_fn(y)"
   ]
  },
  {
   "cell_type": "code",
   "execution_count": null,
   "metadata": {},
   "outputs": [],
   "source": [
    "# Input candidates\n",
    "array = np.array([[0, 0], [0, 1], [1, 0], [1, 1]])\n",
    "\n",
    "# CHECK if you get the right outputs\n",
    "print('OR Gate')\n",
    "for x1, x2 in array:\n",
    "    print('Input: ', x1, x2, ', Output: ', OR_gate(x1, x2))\n",
    "print('\\n')\n",
    "\n",
    "print('NAND Gate')\n",
    "for x1, x2 in array:\n",
    "    print('Input: ', x1, x2, ', Output: ', NAND_gate(x1, x2))\n",
    "print('\\n')\n",
    "\n",
    "print('AND Gate')\n",
    "for x1, x2 in array:\n",
    "    print('Input: ', x1, x2, ', Output: ', AND_gate(x1, x2))"
   ]
  },
  {
   "cell_type": "markdown",
   "metadata": {},
   "source": [
    "#### TODO: Try making XOR Gate with single layer perceptron.\n",
    "Was it possible to make it?"
   ]
  },
  {
   "cell_type": "markdown",
   "metadata": {},
   "source": [
    "## Multilayer perceptron"
   ]
  },
  {
   "cell_type": "markdown",
   "metadata": {},
   "source": [
    "![multiperceptron](https://pyimagesearch.com/wp-content/uploads/2016/08/simple_neural_network_header.jpg)"
   ]
  },
  {
   "cell_type": "code",
   "execution_count": null,
   "metadata": {},
   "outputs": [],
   "source": [
    "# TODO: By using multiple gates, make XOR gate\n",
    "def XOR_gate(x1, x2):\n",
    "    return None"
   ]
  },
  {
   "cell_type": "code",
   "execution_count": null,
   "metadata": {},
   "outputs": [],
   "source": [
    "# # Input candidates\n",
    "array = np.array([[0, 0], [0, 1], [1, 0], [1, 1]])\n",
    "\n",
    "# CHECK if you get the right output\n",
    "print('XOR Gate')\n",
    "for x1, x2 in array:\n",
    "    print('Input: ', x1, x2, ', Output: ', XOR_gate(x1, x2))"
   ]
  },
  {
   "cell_type": "code",
   "execution_count": null,
   "metadata": {},
   "outputs": [],
   "source": [
    "# OPEN QUESTION you might wanna figure out:\n",
    "# Why do we need activation functions?\n",
    "# Can't we make Neural Network without activations?"
   ]
  },
  {
   "cell_type": "code",
   "execution_count": null,
   "metadata": {},
   "outputs": [],
   "source": []
  },
  {
   "cell_type": "markdown",
   "metadata": {},
   "source": [
    "## Activation functions"
   ]
  },
  {
   "cell_type": "markdown",
   "metadata": {},
   "source": [
    "### Resources \n",
    "- [Activation functions](https://towardsdatascience.com/implementing-different-activation-functions-and-weight-initialization-methods-using-python-c78643b9f20f)\n",
    "- [more on activations](https://www.analyticsvidhya.com/blog/2020/01/fundamentals-deep-learning-activation-functions-when-to-use-them/)\n",
    "- [Softmax](https://machinelearningmastery.com/softmax-activation-function-with-python/)"
   ]
  },
  {
   "cell_type": "code",
   "execution_count": null,
   "metadata": {},
   "outputs": [],
   "source": [
    "import matplotlib.pyplot as plt"
   ]
  },
  {
   "cell_type": "code",
   "execution_count": null,
   "metadata": {},
   "outputs": [],
   "source": [
    "# TODO : Softmax function.\n",
    "def softmax(x):\n",
    "    return None"
   ]
  },
  {
   "cell_type": "code",
   "execution_count": null,
   "metadata": {},
   "outputs": [],
   "source": [
    "# TODO : Sigmoid funtion.\n",
    "def sigmoid(x):\n",
    "    return None"
   ]
  },
  {
   "cell_type": "code",
   "execution_count": null,
   "metadata": {},
   "outputs": [],
   "source": [
    "# TODO : Tanh function.\n",
    "def tanh(x):\n",
    "    return None"
   ]
  },
  {
   "cell_type": "code",
   "execution_count": null,
   "metadata": {},
   "outputs": [],
   "source": [
    "# TODO : ReLU function.\n",
    "def ReLU(x):\n",
    "    return None"
   ]
  },
  {
   "cell_type": "code",
   "execution_count": 34,
   "metadata": {},
   "outputs": [
    {
     "data": {
      "image/png": "[encoded data removed]",
      "text/plain": [
       "<Figure size 432x288 with 1 Axes>"
      ]
     },
     "metadata": {
      "needs_background": "light"
     },
     "output_type": "display_data"
    }
   ],
   "source": [
    "x = np.arange(-5.0, 5.0, 0.1)\n",
    "plt.title('Activation Functions')\n",
    "\n",
    "plt.plot(x, softmax(x))\n",
    "plt.plot(x, sigmoid(x))\n",
    "plt.plot(x, tanh(x))\n",
    "plt.plot(x, ReLU(x))\n",
    "\n",
    "plt.ylim(-1.5, 2)\n",
    "plt.legend(['y = softmax(x)', 'y = sigmoid(x)', 'y = tanh(x)', 'y = ReLU(x)'])\n",
    "plt.grid()"
   ]
  },
  {
   "cell_type": "code",
   "execution_count": 31,
   "metadata": {},
   "outputs": [],
   "source": [
    "# Open Question:\n",
    "# Which activation function do we choose?"
   ]
  },
  {
   "cell_type": "markdown",
   "metadata": {},
   "source": [
    "**Next, we are going to build a Digit-Recogniser with just simple multilayer perceptrons**"
   ]
  },
  {
   "cell_type": "code",
   "execution_count": null,
   "metadata": {},
   "outputs": [],
   "source": []
  }
 ],
 "metadata": {
  "kernelspec": {
   "display_name": "Python 3",
   "language": "python",
   "name": "python3"
  },
  "language_info": {
   "codemirror_mode": {
    "name": "ipython",
    "version": 3
   },
   "file_extension": ".py",
   "mimetype": "text/x-python",
   "name": "python",
   "nbconvert_exporter": "python",
   "pygments_lexer": "ipython3",
   "version": "3.7.0"
  }
 },
 "nbformat": 4,
 "nbformat_minor": 2
}
