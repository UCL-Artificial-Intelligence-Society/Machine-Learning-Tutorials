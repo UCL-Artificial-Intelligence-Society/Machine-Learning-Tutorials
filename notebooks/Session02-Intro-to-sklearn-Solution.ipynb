{
 "cells": [
  {
   "cell_type": "markdown",
   "metadata": {},
   "source": [
    "## Why do we use sklearn??\n",
    "\n",
    "1. **Example Datasets**  \n",
    "    sklearn.datasets : Provides example datasets\n",
    "\n",
    "2. **Feature Engineering**  \n",
    "    sklearn.preprocessing : Variable functions as to data preprocessing\n",
    "    sklearn.feature_selection : Help selecting primary components in datasets\n",
    "    sklearn.feature_extraction : Vectorised feature extraction\n",
    "    sklearn.decomposition : Algorithms regarding Dimensionality Reduction\n",
    "\n",
    "3. **Data split and Parameter Tuning**  \n",
    "    sklearn.model_selection : 'Train Test Split' for cross validation, Parameter tuning with GridSearch\n",
    "\n",
    "4. **Evaluation**  \n",
    "    sklearn.metrics : accuracy score, ROC curve, F1 score, etc.\n",
    "\n",
    "5. **ML Algorithms**  \n",
    "    sklearn.ensemble : Ensemble, etc.\n",
    "    sklearn.linear_model : Linear Regression, Logistic Regression, etc.\n",
    "    sklearn.naive_bayes : Gaussian Naive Bayes classification, etc.\n",
    "    sklearn.neighbors : Nearest Centroid classification, etc.\n",
    "    sklearn.svm : Support Vector Machine\n",
    "    sklearn.tree : DecisionTreeClassifier, etc.\n",
    "    sklearn.cluster : Clustering (Unsupervised Learning)\n",
    "    \n",
    "6. **Utilities**  \n",
    "    sklearn.pipeline: pipeline of (feature engineering -> ML Algorithms -> Prediction)\n",
    "    \n",
    "7. **Train and Predict**  \n",
    "    fit()\n",
    "    predict()"
   ]
  },
  {
   "cell_type": "code",
   "execution_count": null,
   "metadata": {},
   "outputs": [],
   "source": []
  }
 ],
 "metadata": {
  "kernelspec": {
   "display_name": "Python 3",
   "language": "python",
   "name": "python3"
  },
  "language_info": {
   "codemirror_mode": {
    "name": "ipython",
    "version": 3
   },
   "file_extension": ".py",
   "mimetype": "text/x-python",
   "name": "python",
   "nbconvert_exporter": "python",
   "pygments_lexer": "ipython3",
   "version": "3.7.0"
  }
 },
 "nbformat": 4,
 "nbformat_minor": 2
}
