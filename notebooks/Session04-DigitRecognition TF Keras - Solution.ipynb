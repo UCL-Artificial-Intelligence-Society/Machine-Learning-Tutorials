{
 "cells": [
  {
   "cell_type": "markdown",
   "metadata": {},
   "source": [
    "# UCL AI Society Machine Learning Tutorials\n",
    "### Session 04. Hand written digit recognition (TF and Keras)"
   ]
  },
  {
   "cell_type": "markdown",
   "metadata": {},
   "source": [
    "### Contents\n",
    "1. Perceptrons\n",
    "2. Digit recognition using Tensorflow\n",
    "3. Digit recognition using Pytorch\n",
    "\n",
    "### Aim\n",
    "At the end of this session, you will be able to:\n",
    "- understand perceptrons in logistic regression mindset\n",
    "- understand feed-forward ANN\n",
    "- feel the differences of top two famous DL framework"
   ]
  },
  {
   "cell_type": "code",
   "execution_count": null,
   "metadata": {},
   "outputs": [],
   "source": []
  },
  {
   "cell_type": "code",
   "execution_count": 1,
   "metadata": {},
   "outputs": [
    {
     "name": "stderr",
     "output_type": "stream",
     "text": [
      "Using TensorFlow backend.\n"
     ]
    }
   ],
   "source": [
    "import pandas as pd\n",
    "import numpy as np\n",
    "import tensorflow as tf\n",
    "from tensorflow import keras\n",
    "from keras.callbacks import ReduceLROnPlateau\n",
    "from keras.optimizers import RMSprop\n",
    "from keras.utils import to_categorical\n",
    "from keras.models import Sequential\n",
    "from keras.layers import Conv2D, MaxPool2D, Dropout, Flatten, Dense\n",
    "from sklearn.model_selection import train_test_split"
   ]
  },
  {
   "cell_type": "markdown",
   "metadata": {},
   "source": [
    "First Download Dataset from Kaggle: https://www.kaggle.com/c/digit-recognizer/data  \n",
    "Then, place the dataset under ./data"
   ]
  },
  {
   "cell_type": "code",
   "execution_count": 2,
   "metadata": {},
   "outputs": [],
   "source": [
    "# You can follow my file path, but you can set your own too.\n",
    "train = pd.read_csv(\"./data/digit-recognizer/train.csv\")\n",
    "test = pd.read_csv(\"./data/digit-recognizer/test.csv\")\n",
    "X_train = train.drop(labels=[\"label\"], axis=1)\n",
    "Y_train = train['label']\n",
    "del train"
   ]
  },
  {
   "cell_type": "code",
   "execution_count": 3,
   "metadata": {},
   "outputs": [],
   "source": [
    "# normalise\n",
    "X_train = X_train / 255.0\n",
    "test = test / 255.0\n",
    "\n",
    "# reshape\n",
    "X_train = X_train.values.reshape(-1,28,28,1)\n",
    "test = test.values.reshape(-1,28,28,1)\n",
    "\n",
    "Y_train = to_categorical(Y_train, num_classes = 10)\n",
    "\n",
    "X_train, X_val, Y_train, Y_val = train_test_split(X_train, Y_train, test_size = 0.1, random_state=2)"
   ]
  },
  {
   "cell_type": "code",
   "execution_count": 4,
   "metadata": {},
   "outputs": [
    {
     "data": {
      "text/plain": [
       "((37800, 28, 28, 1), (37800, 10))"
      ]
     },
     "execution_count": 4,
     "metadata": {},
     "output_type": "execute_result"
    }
   ],
   "source": [
    "X_train.shape, Y_train.shape"
   ]
  },
  {
   "cell_type": "code",
   "execution_count": 5,
   "metadata": {},
   "outputs": [],
   "source": [
    "CNN = True"
   ]
  },
  {
   "cell_type": "code",
   "execution_count": 6,
   "metadata": {},
   "outputs": [],
   "source": [
    "if not CNN:\n",
    "    model = Sequential()\n",
    "\n",
    "    model.add(Flatten(input_shape=(28,28,1)))\n",
    "    model.add(Dense(256, activation = \"relu\"))\n",
    "    model.add(Dropout(0.25))\n",
    "    model.add(Dense(128, activation = \"relu\"))\n",
    "    model.add(Dense(64, activation = \"relu\"))\n",
    "    model.add(Dropout(0.25))\n",
    "    model.add(Dense(10, activation = \"softmax\"))"
   ]
  },
  {
   "cell_type": "code",
   "execution_count": 7,
   "metadata": {},
   "outputs": [],
   "source": [
    "# CNN\n",
    "if CNN:\n",
    "    model = Sequential()\n",
    "\n",
    "    model.add(Conv2D(filters = 32, kernel_size = (5,5),padding = 'Same',\n",
    "                     activation ='relu', input_shape = (28,28,1)))\n",
    "    model.add(Conv2D(filters = 32, kernel_size = (5,5),padding = 'Same',\n",
    "                     activation ='relu'))\n",
    "    model.add(MaxPool2D(pool_size=(2,2)))\n",
    "    model.add(Dropout(0.25))\n",
    "\n",
    "\n",
    "    model.add(Conv2D(filters = 64, kernel_size = (3,3),padding = 'Same',\n",
    "                     activation ='relu'))\n",
    "    model.add(Conv2D(filters = 64, kernel_size = (3,3),padding = 'Same',\n",
    "                     activation ='relu'))\n",
    "    model.add(MaxPool2D(pool_size=(2,2), strides=(2,2)))\n",
    "    model.add(Dropout(0.25))\n",
    "\n",
    "\n",
    "    model.add(Flatten())\n",
    "    model.add(Dense(256, activation = \"relu\"))\n",
    "    model.add(Dropout(0.5))\n",
    "    model.add(Dense(10, activation = \"softmax\"))\n"
   ]
  },
  {
   "cell_type": "code",
   "execution_count": 10,
   "metadata": {},
   "outputs": [
    {
     "name": "stdout",
     "output_type": "stream",
     "text": [
      "Model: \"sequential_1\"\n",
      "_________________________________________________________________\n",
      "Layer (type)                 Output Shape              Param #   \n",
      "=================================================================\n",
      "conv2d_1 (Conv2D)            (None, 28, 28, 32)        832       \n",
      "_________________________________________________________________\n",
      "conv2d_2 (Conv2D)            (None, 28, 28, 32)        25632     \n",
      "_________________________________________________________________\n",
      "max_pooling2d_1 (MaxPooling2 (None, 14, 14, 32)        0         \n",
      "_________________________________________________________________\n",
      "dropout_1 (Dropout)          (None, 14, 14, 32)        0         \n",
      "_________________________________________________________________\n",
      "conv2d_3 (Conv2D)            (None, 14, 14, 64)        18496     \n",
      "_________________________________________________________________\n",
      "conv2d_4 (Conv2D)            (None, 14, 14, 64)        36928     \n",
      "_________________________________________________________________\n",
      "max_pooling2d_2 (MaxPooling2 (None, 7, 7, 64)          0         \n",
      "_________________________________________________________________\n",
      "dropout_2 (Dropout)          (None, 7, 7, 64)          0         \n",
      "_________________________________________________________________\n",
      "flatten_1 (Flatten)          (None, 3136)              0         \n",
      "_________________________________________________________________\n",
      "dense_1 (Dense)              (None, 256)               803072    \n",
      "_________________________________________________________________\n",
      "dropout_3 (Dropout)          (None, 256)               0         \n",
      "_________________________________________________________________\n",
      "dense_2 (Dense)              (None, 10)                2570      \n",
      "=================================================================\n",
      "Total params: 887,530\n",
      "Trainable params: 887,530\n",
      "Non-trainable params: 0\n",
      "_________________________________________________________________\n"
     ]
    }
   ],
   "source": [
    "model.summary()"
   ]
  },
  {
   "cell_type": "code",
   "execution_count": 8,
   "metadata": {},
   "outputs": [],
   "source": [
    "optimizer = RMSprop(lr=0.001, rho=0.9, epsilon=1e-08, decay=0.0)\n",
    "model.compile(optimizer = optimizer , loss = \"categorical_crossentropy\", metrics=[\"accuracy\"])"
   ]
  },
  {
   "cell_type": "code",
   "execution_count": 9,
   "metadata": {},
   "outputs": [],
   "source": [
    "learning_rate_reduction = ReduceLROnPlateau(monitor='val_acc',\n",
    "                                            patience=3,\n",
    "                                            verbose=1,\n",
    "                                            factor=0.5,\n",
    "                                            min_lr=0.00001)"
   ]
  },
  {
   "cell_type": "code",
   "execution_count": 11,
   "metadata": {},
   "outputs": [
    {
     "name": "stdout",
     "output_type": "stream",
     "text": [
      "Train on 37800 samples, validate on 4200 samples\n",
      "Epoch 1/25\n",
      " - 100s - loss: 0.2209 - accuracy: 0.9295 - val_loss: 0.0747 - val_accuracy: 0.9748\n",
      "Epoch 2/25\n",
      " - 97s - loss: 0.0735 - accuracy: 0.9782 - val_loss: 0.0460 - val_accuracy: 0.9864\n",
      "Epoch 3/25\n",
      " - 96s - loss: 0.0557 - accuracy: 0.9827 - val_loss: 0.0718 - val_accuracy: 0.9781\n",
      "Epoch 4/25\n",
      " - 96s - loss: 0.0477 - accuracy: 0.9865 - val_loss: 0.0310 - val_accuracy: 0.9912\n",
      "Epoch 5/25\n",
      " - 97s - loss: 0.0417 - accuracy: 0.9878 - val_loss: 0.0667 - val_accuracy: 0.9867\n",
      "Epoch 6/25\n",
      " - 101s - loss: 0.0401 - accuracy: 0.9879 - val_loss: 0.0354 - val_accuracy: 0.9907\n",
      "Epoch 7/25\n",
      " - 100s - loss: 0.0372 - accuracy: 0.9891 - val_loss: 0.0294 - val_accuracy: 0.9914\n",
      "Epoch 8/25\n",
      " - 102s - loss: 0.0374 - accuracy: 0.9897 - val_loss: 0.0321 - val_accuracy: 0.9917\n",
      "Epoch 9/25\n",
      " - 98s - loss: 0.0362 - accuracy: 0.9903 - val_loss: 0.0305 - val_accuracy: 0.9907\n",
      "Epoch 10/25\n",
      " - 99s - loss: 0.0333 - accuracy: 0.9905 - val_loss: 0.0388 - val_accuracy: 0.9907\n",
      "Epoch 11/25\n",
      " - 98s - loss: 0.0358 - accuracy: 0.9899 - val_loss: 0.0265 - val_accuracy: 0.9938\n",
      "Epoch 12/25\n",
      " - 103s - loss: 0.0345 - accuracy: 0.9906 - val_loss: 0.0318 - val_accuracy: 0.9912\n",
      "Epoch 13/25\n",
      " - 97s - loss: 0.0360 - accuracy: 0.9902 - val_loss: 0.0309 - val_accuracy: 0.9921\n"
     ]
    }
   ],
   "source": [
    "epochs = 25\n",
    "batch_size = 64\n",
    "\n",
    "# Early Stopping\n",
    "# This callback will stop the training when there is no improvement in\n",
    "# the validation loss for three consecutive epochs.\n",
    "callback = tf.keras.callbacks.EarlyStopping(monitor='loss', patience=3)\n",
    "\n",
    "history = model.fit(X_train, Y_train, batch_size = batch_size, epochs = epochs,\n",
    "                    validation_data = (X_val, Y_val), verbose = 2, callbacks=[callback])"
   ]
  },
  {
   "cell_type": "code",
   "execution_count": 12,
   "metadata": {},
   "outputs": [],
   "source": [
    "model.save('./data/digit-recognizer/keras_digit_recogniser_model')"
   ]
  },
  {
   "cell_type": "code",
   "execution_count": 13,
   "metadata": {},
   "outputs": [
    {
     "name": "stderr",
     "output_type": "stream",
     "text": [
      "WARNING: Logging before flag parsing goes to stderr.\n",
      "W1203 00:26:43.800143 4337360384 __init__.py:820] Duplicate key in file '/Users/toeun_kim/.matplotlib/matplotlibrc', line 2 ('backend: TkAgg')\n"
     ]
    }
   ],
   "source": [
    "import matplotlib.pyplot as plt"
   ]
  },
  {
   "cell_type": "code",
   "execution_count": 19,
   "metadata": {},
   "outputs": [
    {
     "data": {
      "image/png": "[encoded data removed]",
      "text/plain": [
       "<Figure size 1080x288 with 3 Axes>"
      ]
     },
     "metadata": {
      "needs_background": "light"
     },
     "output_type": "display_data"
    }
   ],
   "source": [
    "fig, axes = plt.subplots(1, 3, figsize=(15,4))\n",
    "\n",
    "axes[0].plot(history.history['val_loss'], color='b', label=\"val loss\")\n",
    "axes[0].set_title(\"Vali Loss\")\n",
    "axes[0].set_xlabel(\"Epochs\")\n",
    "axes[0].set_ylabel(\"Loss\")\n",
    "axes[0].legend()\n",
    "\n",
    "axes[1].plot(history.history['val_accuracy'], color='r', label=\"val acc\")\n",
    "axes[1].set_title(\"Vali Acc\")\n",
    "axes[1].set_xlabel(\"Epochs\")\n",
    "axes[1].set_ylabel(\"Acc\")\n",
    "axes[1].legend()\n",
    "\n",
    "axes[2].plot(history.history['loss'], color='green', label=\"loss\")\n",
    "axes[2].set_title(\"Loss\")\n",
    "axes[2].set_xlabel(\"Epochs\")\n",
    "axes[2].set_ylabel(\"Loss\")\n",
    "axes[2].legend()\n",
    "\n",
    "plt.show()"
   ]
  },
  {
   "cell_type": "code",
   "execution_count": 23,
   "metadata": {},
   "outputs": [],
   "source": [
    "pred = model.predict(test)\n",
    "pred_classes = np.argmax(pred, axis = 1)\n",
    "result = pd.Series(pred_classes, name=\"Label\")\n",
    "\n",
    "submission = pd.concat([pd.Series(range(1,28001),name = \"ImageId\"), result],axis = 1)\n",
    "\n",
    "submission.to_csv(\"./data/digit-recognizer/submission.csv\",index=False)"
   ]
  },
  {
   "cell_type": "code",
   "execution_count": 24,
   "metadata": {},
   "outputs": [
    {
     "data": {
      "text/plain": [
       "0        2\n",
       "1        0\n",
       "2        9\n",
       "3        0\n",
       "4        3\n",
       "        ..\n",
       "27995    9\n",
       "27996    7\n",
       "27997    3\n",
       "27998    9\n",
       "27999    2\n",
       "Name: Label, Length: 28000, dtype: int64"
      ]
     },
     "execution_count": 24,
     "metadata": {},
     "output_type": "execute_result"
    }
   ],
   "source": [
    "result"
   ]
  },
  {
   "cell_type": "code",
   "execution_count": 25,
   "metadata": {},
   "outputs": [
    {
     "data": {
      "image/png": "[encoded data removed]",
      "text/plain": [
       "<Figure size 1080x720 with 6 Axes>"
      ]
     },
     "metadata": {
      "needs_background": "light"
     },
     "output_type": "display_data"
    }
   ],
   "source": [
    "fig,ax=plt.subplots(2,3,figsize=(15,10))\n",
    "\n",
    "for i in range(2):\n",
    "    for j in range(3):\n",
    "        selected_rand = np.random.randint(0,len(test))\n",
    "        img = test[selected_rand]\n",
    "        img = img.reshape((28,28))\n",
    "        ax[i][j].imshow(img)\n",
    "        ax[i][j].set_title(pred_classes[selected_rand],fontsize=20)"
   ]
  },
  {
   "cell_type": "code",
   "execution_count": null,
   "metadata": {},
   "outputs": [],
   "source": []
  },
  {
   "cell_type": "markdown",
   "metadata": {},
   "source": [
    "## Your mission is to improve this recognizer\n",
    "\n",
    "**You can improve this by**:  \n",
    "- Different preprocessing method\n",
    "    - Normalisation\n",
    "    - Label Encoding\n",
    "- Hyperparameter Tuning \n",
    "    - Number of nodes\n",
    "    - learning rate\n",
    "    - dropout rate\n",
    "    - activations\n",
    "    - epochs\n",
    "    - batch size\n",
    "    - type of loss function\n",
    "- Better optimiser\n",
    "- Better architecture of perceptrons\n",
    "- Convolutional Neural Network\n",
    "- Regularisation\n",
    "    - Batch Normalisation\n",
    "    - Dropout\n",
    "- Learning rate scheduling\n",
    "- Early stopping"
   ]
  },
  {
   "cell_type": "code",
   "execution_count": null,
   "metadata": {},
   "outputs": [],
   "source": []
  }
 ],
 "metadata": {
  "kernelspec": {
   "display_name": "Python 3",
   "language": "python",
   "name": "python3"
  },
  "language_info": {
   "codemirror_mode": {
    "name": "ipython",
    "version": 3
   },
   "file_extension": ".py",
   "mimetype": "text/x-python",
   "name": "python",
   "nbconvert_exporter": "python",
   "pygments_lexer": "ipython3",
   "version": "3.7.0"
  }
 },
 "nbformat": 4,
 "nbformat_minor": 2
}
