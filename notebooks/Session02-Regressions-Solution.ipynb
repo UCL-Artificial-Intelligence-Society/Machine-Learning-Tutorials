{
 "cells": [
  {
   "cell_type": "markdown",
   "metadata": {},
   "source": [
    "## Linear Regression from Scratch"
   ]
  },
  {
   "cell_type": "markdown",
   "metadata": {},
   "source": [
    "## Linear Regression using sklearn"
   ]
  },
  {
   "cell_type": "markdown",
   "metadata": {},
   "source": [
    "## Multiple Linear Regression"
   ]
  },
  {
   "cell_type": "markdown",
   "metadata": {},
   "source": [
    "## Polynomial Regression"
   ]
  },
  {
   "cell_type": "markdown",
   "metadata": {},
   "source": [
    "## Other Regressions\n",
    "### Rigde\n",
    "explanation\n",
    "### Lasso\n",
    "explanation\n",
    "### Elastic Net\n",
    "explanation\n",
    "\n",
    "1. **load Ridge model with**  \n",
    "    sklearn.linear_model.Ridge(alpha)\n",
    "        alpha: scalar value\n",
    "\n",
    "2.  **load Lasso with**  \n",
    "    sklearn.linear_model.Lasso(alpha)\n",
    "        alpha: scalar value\n",
    "\n",
    "3. **load ElasticNet with**  \n",
    "    sklearn.linear_model.ElasticNet(alpha, l1_ratio)\n",
    "        alpha: scalar value\n",
    "        l1_ratio: ratio for L1 norm\n",
    "\n",
    "reference: https://scikit-learn.org/stable/modules/classes.html#module-sklearn.linear_model"
   ]
  },
  {
   "cell_type": "code",
   "execution_count": null,
   "metadata": {},
   "outputs": [],
   "source": []
  }
 ],
 "metadata": {
  "kernelspec": {
   "display_name": "Python 3",
   "language": "python",
   "name": "python3"
  },
  "language_info": {
   "codemirror_mode": {
    "name": "ipython",
    "version": 3
   },
   "file_extension": ".py",
   "mimetype": "text/x-python",
   "name": "python",
   "nbconvert_exporter": "python",
   "pygments_lexer": "ipython3",
   "version": "3.7.0"
  }
 },
 "nbformat": 4,
 "nbformat_minor": 2
}
