{
 "cells": [
  {
   "cell_type": "markdown",
   "metadata": {},
   "source": [
    "# UCL AI Society Machine Learning Tutorials\n",
    "### Session 03. Data Pre-processing and Dimensionality Reduction"
   ]
  },
  {
   "cell_type": "markdown",
   "metadata": {},
   "source": [
    "### Contents\n",
    "1. Data Pre-processing and Dimensionality Reduction\n",
    "2. Support Vector Machine (SVM)\n",
    "3. Clustering: Kmeans\n",
    "\n",
    "### Aim\n",
    "At the end of this session, you will be able to:\n",
    "- Clean your dataset and reduce its redundancy.\n",
    "- Implement two of the most important ML model: SVM and Kmeans\n",
    "- Understand the differences between unsupervised and supervised learning."
   ]
  },
  {
   "cell_type": "markdown",
   "metadata": {},
   "source": [
    "### Outline\n",
    "1. Data Preprocessing\n",
    "\n",
    "    1.1 Missing Value Imputation\n",
    "    \n",
    "    1.2 Data Transformation\n",
    "    \n",
    "    1.3 Rescaling: Standardization and Normalization\n",
    "\n",
    "\n",
    "2. Dimensionality Reduction: PCA"
   ]
  },
  {
   "cell_type": "markdown",
   "metadata": {},
   "source": [
    "## 0. Dataset\n",
    "First of all, let's introduce a classic dataset from Kaggle competition, where you can check [here](https://www.kaggle.com/c/titanic/overview).\n",
    "\n",
    "Accordingly, this dataset contains information about 891 people who were on board the ship when departed on April 15th, 1912. As noted in the description on Kaggle's website, some people aboard the ship were more likely to survive the wreck than others. There were not enough lifeboats for everybody so women, children, and the upper-class were prioritized. Using the information about these 891 passengers, the challenge is to build a model to predict which people would survive based on the following fields:\n",
    "\n",
    "- **Name** (str) - Name of the passenger\n",
    "- **Pclass** (int) - Ticket class\n",
    "- **Sex** (str) - Sex of the passenger\n",
    "- **Age** (float) - Age in years\n",
    "- **SibSp** (int) - Number of siblings and spouses aboard\n",
    "- **Parch** (int) - Number of parents and children aboard\n",
    "- **Ticket** (str) - Ticket number\n",
    "- **Fare** (float) - Passenger fare\n",
    "- **Cabin** (str) - Cabin number\n",
    "- **Embarked** (str) - Port of embarkation (C = Cherbourg, Q = Queenstown, S = Southampton)"
   ]
  },
  {
   "cell_type": "code",
   "execution_count": null,
   "metadata": {},
   "outputs": [],
   "source": [
    "# Import baisc libraries\n",
    "import pandas as pd\n",
    "import numpy as np\n",
    "\n",
    "dataPath='./data/titanic.csv'\n",
    "\n",
    "# TODO: read the dataset using pandas and show the first 10 observations\n",
    "dataset= pd.None(dataPath)\n",
    "dataset.None()"
   ]
  },
  {
   "cell_type": "markdown",
   "metadata": {},
   "source": [
    "## 1. Data Preprocessing\n",
    "**Data Preprocessing** is one of the most important (sometimes difficult) steps in machine-learning-based engineering. It not only significantly affects the final performance of a given model, but also, to some extent, determines which kind of model better fits the data itself.\n",
    "\n",
    "In fact, dity aquired data is very common, which means there are always missing values, outliers, badly-behaved distributions, etc. It is **essential** to clean these dity data to train a better-performed model. Additionally, most of machine learning models cannot be fed with some types of data, e.g. non-numerical data, while some of them perfer a certain type of data rather than others, e.g. random forest can be trained faster with histogramized data. Therefore, for the sake of not only adapting model input but also obtaining better performance, we have to preprocess data before we proceed to a further step.\n",
    "\n",
    "`sklearn` provides many tools which can help us implement data preprocessing easily. In this notebook, we will mainly focus on using this module to implement **missing value imputation**, basic **data transformation**, **standardization** and **normalization**. Techniques used to detect outliers and fix badly-behaved distributions can vary from data to data, so it might not be further discussed this time."
   ]
  },
  {
   "cell_type": "code",
   "execution_count": null,
   "metadata": {},
   "outputs": [],
   "source": [
    "# Drop the useless features for prediction: Name, Ticket, PassagerId\n",
    "dataset.drop(['Name','Ticket','PassengerId'],axis=1, inplace=True)\n",
    "dataset.head(10)"
   ]
  },
  {
   "cell_type": "markdown",
   "metadata": {},
   "source": [
    "### 1.1 Missing Value Imputation"
   ]
  },
  {
   "cell_type": "markdown",
   "metadata": {},
   "source": [
    "The raw data always has a proportion of missing values due to types of error caused by human, sensor, transmission and storage. Missing value imputation aims to undermine the negative impact on the model performance by filling the missing values with meaningful values.\n",
    "\n",
    "`sklearn.Impute` provides both univariate and multivariate imputation techniques to process missing value. \n",
    "\n",
    "`SimpleImputer` class provides basic strategies for imputing missing values. Missing values can be imputed with a provided constant value, or using the statistics (mean, median or most frequent) of each column in which the missing values are located.\n",
    "\n",
    "`InterativeImputer` class models each feature with missing values as a function of other features, and uses that estimate for imputation.\n",
    "\n",
    "More info. can be found [here](https://scikit-learn.org/stable/modules/impute.html#impute)"
   ]
  },
  {
   "cell_type": "markdown",
   "metadata": {},
   "source": [
    "Let's explore which feature has missing value and how many it has."
   ]
  },
  {
   "cell_type": "code",
   "execution_count": null,
   "metadata": {},
   "outputs": [],
   "source": [
    "dataset.isnull().sum()"
   ]
  },
  {
   "cell_type": "markdown",
   "metadata": {},
   "source": [
    "Now, the above summary illustrates the wanted information, where there are missing values in `Age`, `Cabin` and `Embarked` features. \n",
    "\n",
    "We are going to deal with it with various techniques."
   ]
  },
  {
   "cell_type": "code",
   "execution_count": null,
   "metadata": {},
   "outputs": [],
   "source": [
    "from sklearn import impute\n",
    "\n",
    "# Firstly, we use 'mean' strategy to impute the missing value in Age feature\n",
    "imputer_mean = impute.SimpleImputer(missing_values=np.nan, strategy='mean')\n",
    "# Check the mean of feature Age\n",
    "age_mean = dataset['Age'].mean()\n",
    "print(\"The mean of ages is {:.2f}\".format(age_mean))\n",
    "# SimpleImputer.fit_transform does not accpet pandas Series type, so transform it to numpy array.\n",
    "age = np.array(dataset['Age']).reshape(-1,1)\n",
    "dataset['Age'] = imputer_mean.fit_transform(age)\n",
    "\n",
    "# TODO: check the missing values of the dataset again.\n",
    "dataset.isnull().sum()"
   ]
  },
  {
   "cell_type": "markdown",
   "metadata": {},
   "source": [
    "Since the `Cabin` and `Embarked` features are non-numerical data. Mean and median filling strategies do not work! And thus try to apply most frequent strategy this time.\n",
    "\n",
    "`mode()` can return the most frequent values."
   ]
  },
  {
   "cell_type": "code",
   "execution_count": null,
   "metadata": {},
   "outputs": [],
   "source": [
    "# Before fill the remaining features, check the most frequent value for each of them\n",
    "cabin_most=dataset['Cabin'].mode().iloc[0]\n",
    "embarked_most=dataset['Embarked'].mode().iloc[0]\n",
    "print(\"The most frequent value of Cabin is '{}'\".format(cabin_most))\n",
    "print(\"The most frequent value of Embarked is '{}'\".format(embarked_most))\n",
    "\n",
    "# TODO: follow the above steps to fill the remaining features with most frequent value.\n",
    "imputer_freq = impute.SimpleImputer(missing_values=np.nan, strategy='most_frequent')\n",
    "cabin = np.array(dataset['Cabin']).reshape(-1,1)\n",
    "embarked = np.array(dataset['Embarked']).reshape(-1,1)\n",
    "dataset['Cabin'] = imputer_freq.fit_transform(cabin)\n",
    "dataset['Embarked'] = imputer_freq.fit_transform(embarked)\n",
    "\n",
    "## TODO: check the missing values again, there should be no missing value\n",
    "dataset.None"
   ]
  },
  {
   "cell_type": "markdown",
   "metadata": {},
   "source": [
    "And then let's verify we have fill the wanted values."
   ]
  },
  {
   "cell_type": "code",
   "execution_count": null,
   "metadata": {},
   "outputs": [],
   "source": [
    "dataset.head(10)"
   ]
  },
  {
   "cell_type": "markdown",
   "metadata": {},
   "source": [
    "Then, we can try a more complex method: `IterativeImputer`\n",
    "\n",
    "Accordingly, this imputer is still experimental for now, so the `emable_iterative_imputer` module should be imported explicitly."
   ]
  },
  {
   "cell_type": "code",
   "execution_count": null,
   "metadata": {},
   "outputs": [],
   "source": [
    "from sklearn.experimental import enable_iterative_imputer\n",
    "\n",
    "# Create a brief dataset for convenient verification.\n",
    "data = np.array([[1, 2], [3, 6], [4, 8], [np.nan, 3], [7, np.nan]])\n",
    "print(\"The given data is:\")\n",
    "print(data)\n",
    "# Use a regressor to fit the know data pair and predict the missing ones.\n",
    "imputer_multi = impute.IterativeImputer(max_iter=10, random_state=0)\n",
    "data = imputer_multi.fit_transform(data)\n",
    "print(\"The imputed data is:\")\n",
    "print(data)"
   ]
  },
  {
   "cell_type": "markdown",
   "metadata": {},
   "source": [
    "We can see the model learns that the second feature is double the first.\n",
    "\n",
    "In fact, there more advanced imputation techniques provided by `sklearn.impute`. You may want to check [here](https://scikit-learn.org/stable/modules/impute.html#impute)."
   ]
  },
  {
   "cell_type": "markdown",
   "metadata": {},
   "source": [
    "### 1.2 Data Transformation"
   ]
  },
  {
   "cell_type": "markdown",
   "metadata": {},
   "source": [
    "Data transformation is needed, for example, when we want to encode the non-numerical data into numerical representation, transform the continous data into discrete one, etc.\n",
    "\n",
    "Let's explore how to encode the non-numerical data at first. The titanic dataset has a feature `Sex`, which is a binary variable represented in female and male. It is very hard for computer to deal with this kind of input, and thus encoding is required.\n",
    "\n",
    "`LabelEncoder()` can recognize the number of classes within one feature, and then encode them as integer number."
   ]
  },
  {
   "cell_type": "code",
   "execution_count": null,
   "metadata": {},
   "outputs": [],
   "source": [
    "from sklearn.preprocessing import LabelEncoder\n",
    "\n",
    "labelEncoder = LabelEncoder()\n",
    "sex_label = labelEncoder.fit_transform(dataset['Sex'])\n",
    "dataset['Sex'] = sex_label\n",
    "dataset.head(5)"
   ]
  },
  {
   "cell_type": "markdown",
   "metadata": {},
   "source": [
    "However, if we only use `LabelEncoder` to generate a set of integers, it will introduce bias. Just simply think about \"Is that fair to encode male as 1 but female as 0? (The bigger number may indicate more importance in the model)\".\n",
    "\n",
    "So, one way to deal with this unfairness is using **One-hot Encoding**, which can be implemented by `OneHotEncoder()`."
   ]
  },
  {
   "cell_type": "code",
   "execution_count": null,
   "metadata": {},
   "outputs": [],
   "source": [
    "from sklearn.preprocessing import OneHotEncoder\n",
    "\n",
    "# follow the similar process of label encoding, implement One-hot Encoding\n",
    "OHEncoder = OneHotEncoder()\n",
    "sex_onehot=OHEncoder.fit_transform(sex_label.reshape(-1,1)).toarray()\n",
    "# store the one-hot encoding to the dataframe with 2 new columns\n",
    "dataset['Sex1'] = sex_onehot[:,0]\n",
    "dataset['Sex2'] = sex_onehot[:,1]\n",
    "dataset.drop(['Sex'], axis=1, inplace=True)\n",
    "dataset.head(5)"
   ]
  },
  {
   "cell_type": "markdown",
   "metadata": {},
   "source": [
    "In some cases, continous data can consume much computation resource. A popular strategy is to transform it into bins like a histogram.\n",
    "\n",
    "`pandas.cut()` function can help to do so. We test it on the `Age` feature this time, where parameter `x` accepts the input data, `bins` accepts the number of bins that we want to have, `labels` indicates the bin label."
   ]
  },
  {
   "cell_type": "code",
   "execution_count": null,
   "metadata": {},
   "outputs": [],
   "source": [
    "ageBin = pd.cut(x=dataset['Age'], bins=5, labels=range(0,5))\n",
    "dataset['Age'] = ageBin"
   ]
  },
  {
   "cell_type": "code",
   "execution_count": null,
   "metadata": {},
   "outputs": [],
   "source": [
    "dataset.head(10)"
   ]
  },
  {
   "cell_type": "markdown",
   "metadata": {},
   "source": [
    "Now the `Age` feature is cut into 5 bins with thier label. Similarly, we don't want emphasize the importance of the bin with bigger label, so try to use One-hot encoding again."
   ]
  },
  {
   "cell_type": "code",
   "execution_count": null,
   "metadata": {},
   "outputs": [],
   "source": [
    "# TODO: Try to use one-hot encoding like above to encode the Age feature.\n"
   ]
  },
  {
   "cell_type": "code",
   "execution_count": null,
   "metadata": {},
   "outputs": [],
   "source": [
    "dataset.head(10)"
   ]
  },
  {
   "cell_type": "markdown",
   "metadata": {},
   "source": [
    "### 1.3 Rescaling: Standardization and Normalization"
   ]
  },
  {
   "cell_type": "markdown",
   "metadata": {},
   "source": [
    "Standardization is used to adjust a feature from non-zero mean and non-norm variance normal distribution to standard normal distribution. Although sometimes we cannot ensure the feature satisfies a normal distribution, standardization is still very important to avoid a feature with big variance significantly leading the model training. In fact, a feature with big variance is likely to prevent the model learns from other features.\n",
    "\n",
    "The standardization can be expressed as:\n",
    "$ {X_{std}} = \\frac{{X - \\bar X}}{\\sigma } $, where $\\bar X$ and $\\sigma$ are the mean value and standard deviation of $ X $.\n",
    "\n",
    "We use `StandardScaler` in the `sklearn.preprocessing` class to implement data standardization. Let's standardize the fare feature."
   ]
  },
  {
   "cell_type": "code",
   "execution_count": null,
   "metadata": {},
   "outputs": [],
   "source": [
    "from sklearn.preprocessing import StandardScaler\n",
    "\n",
    "stad = StandardScaler()\n",
    "dataset['Fare'] = stad.fit_transform(np.array(dataset['Fare']).reshape(-1,1))\n",
    "dataset.head(10)"
   ]
  },
  {
   "cell_type": "markdown",
   "metadata": {},
   "source": [
    "Normalization is also a good way to avoid model over-emphasizing the feature simply because it has bigger value. For example, if we want to predict person's gender through height and weight, is that fair to directly use the height in meters and weight in kilogram to train our model?\n",
    "\n",
    "Normalization can rescale the data to the range [0,1], which makes every feature has same importance in training. The normalization can be expressed as: $ {X_{norm}} = \\frac{{X - {X_{\\min }}}}{{{X_{\\max }} - {X_{\\min }}}}\\ $.\n",
    "\n",
    "To implement normalization, we are able to apply `MinMaxScaler` in the `sklearn.preprocessing` class. Let's try it!\n"
   ]
  },
  {
   "cell_type": "code",
   "execution_count": null,
   "metadata": {},
   "outputs": [],
   "source": [
    "from sklearn.preprocessing import MinMaxScaler\n",
    "\n",
    "# TODO: Implement normalization for feature 'Pclass' and show the result\n",
    "\n",
    "dataset.head(10)"
   ]
  },
  {
   "cell_type": "markdown",
   "metadata": {},
   "source": [
    "## 2. Dimensionality Reduction: PCA"
   ]
  },
  {
   "attachments": {
    "%E5%9B%BE%E7%89%871.png": {
     "image/png": "[encoded data removed]"
    }
   },
   "cell_type": "markdown",
   "metadata": {},
   "source": [
    "In some scenarios, the data dimension (number of features) can be very large (sometimes tens kilo or larger), which leads to a very complex model that tends to overfit. Meanwhile, the data in high dimension always has certain redundancy. So, we might intend to reduce the dimensionality of the features to solve this problem.\n",
    "\n",
    "**PCA** aims to reduce the data dimension (n) by finding a new set of basis which can represent the data on k(k<n) dimensional space with maximum variance. The figure below demonstrates an example of PCA, which reduce the 3-D data to 2-D. Under the assumption that the bigger data variance indicates more abundant information, PCA is effective and widly applied.\n",
    "\n",
    "![%E5%9B%BE%E7%89%871.png](attachment:%E5%9B%BE%E7%89%871.png)\n",
    "\n",
    "Again we use `Iris` dataset to practice."
   ]
  },
  {
   "cell_type": "code",
   "execution_count": null,
   "metadata": {},
   "outputs": [],
   "source": [
    "# Load iris dataset\n",
    "from sklearn.datasets import load_iris\n",
    "iris = load_iris()\n",
    "\n",
    "# Get features and label\n",
    "data = iris.data\n",
    "feature_name = iris.feature_names\n",
    "label = iris.target\n",
    "\n",
    "# Convert to Dataframe to check the data\n",
    "dataset_df = pd.DataFrame(data, columns=feature_name)\n",
    "dataset_df['class'] = label\n",
    "dataset_df.head(5)"
   ]
  },
  {
   "cell_type": "markdown",
   "metadata": {},
   "source": [
    "Since there are 4 features, it is impossible to show the data points in a 3-D space. Let's just check the first 3 features and show them in a 3-D plot.\n",
    "\n",
    "Recall the `matplotlib` module we have learnt in the first session, it can be easily implemented using `plot3D` and `scatter3D` function."
   ]
  },
  {
   "cell_type": "code",
   "execution_count": null,
   "metadata": {},
   "outputs": [],
   "source": [
    "# Import matplotlib module\n",
    "import matplotlib.pyplot as plt"
   ]
  },
  {
   "cell_type": "code",
   "execution_count": null,
   "metadata": {},
   "outputs": [],
   "source": [
    "# Split the datasets according to class index\n",
    "clas=[0,1,2]\n",
    "for clsNum in clas:\n",
    "    tempData= dataset_df[dataset_df['class'].isin([clsNum])]\n",
    "    exec(\"class%s=tempData\"%clsNum)\n",
    "# Store them into a dictionary\n",
    "class_dict={'0':class0,'1':class1,'2':class2}\n",
    "\n",
    "# Add this line to make the graph can be rotated freely\n",
    "%matplotlib notebook\n",
    "\n",
    "# Plot the points in 3-D space\n",
    "plt.figure(0)\n",
    "ax = plt.axes(projection='3d')\n",
    "\n",
    "color=['r','g','b']\n",
    "for i in clas:\n",
    "    #plot the data points in 3-D space with different color\n",
    "    ax.scatter3D(class_dict[str(i)][feature_name[0]], \n",
    "                 class_dict[str(i)][feature_name[1]], \n",
    "                 class_dict[str(i)][feature_name[2]], \n",
    "                 c=color[i])\n",
    "ax.set_xlabel(feature_name[0])\n",
    "ax.set_ylabel(feature_name[1])\n",
    "ax.set_zlabel(feature_name[2])\n",
    "\n",
    "plt.show()"
   ]
  },
  {
   "cell_type": "markdown",
   "metadata": {},
   "source": [
    "Now, let's apply PCA and see what will happen!\n",
    "\n",
    "Use `sklearn.decomposition.PCA ` to reduce the 3-D data to 2-D."
   ]
  },
  {
   "cell_type": "code",
   "execution_count": null,
   "metadata": {},
   "outputs": [],
   "source": [
    "from sklearn.decomposition import PCA\n",
    "\n",
    "pcaModel = PCA(n_components=2)\n",
    "pcaModel.fit(np.array(dataset_df[feature_name[0:3]]))\n",
    "data_3D = np.array(dataset_df[feature_name[0:3]])\n",
    "PCA_feature =pcaModel.transform(data_3D)\n",
    "\n",
    "# Plot the 2-D plot\n",
    "plt.figure(1)\n",
    "for i in range(len(label)):\n",
    "    plt.scatter(PCA_feature[i,0],PCA_feature[i,1],color=color[dataset_df['class'][i]])\n",
    "    \n",
    "plt.show()"
   ]
  },
  {
   "cell_type": "markdown",
   "metadata": {},
   "source": [
    "**Tips** Remember when you use PCA in machine learning project, you should use `.fit()` on your training set and `.transform` on your test set. \n",
    "\n",
    "Think about why?"
   ]
  },
  {
   "cell_type": "markdown",
   "metadata": {},
   "source": [
    "Then, let's dig deeper to see the mathmetical implementation of PCA.\n",
    "\n",
    "Theoretically, PCA transforms the N-feature data to R-feature data (R<N), where the axes in the new space normally have the maximum variance. Assume there are M samples, the algorithm can be concluded as follow:\n",
    "\n",
    "1. Transform the original data $ \\in M*N$ to zero-mean for each feature.\n",
    "\n",
    "2. Calculate the covariance matrix $C_{N*N}$.\n",
    "\n",
    "3. Find the eigenvectors $ \\in N*1$ and eigenvalues of C.\n",
    "\n",
    "4. Sort the eigenvalues in a descending order, and compose a new matrix $P \\in N*R$ with the first R corresponding eigenvectors.\n",
    "\n",
    "5. The dimension-reduced data matrix $ \\in M*R$ should be $X_{zeroMean} \\cdot P$, where $X_{zeroMean}$ is the zero mean data matrix. "
   ]
  },
  {
   "cell_type": "code",
   "execution_count": null,
   "metadata": {},
   "outputs": [],
   "source": [
    "# TODO(Challenge level): \n",
    "# Implement the PCA mannully accordingly and verify using the same data as before.\n"
   ]
  },
  {
   "cell_type": "markdown",
   "metadata": {},
   "source": [
    "**Hint** `np.cov()` can be used to calculate the covariance matrix, `np.linalg.eig()` can return the eigenvalues and eigenvectors, `np.argsort()` can find sorted index of a set of data, `np.transpose()` to get the transpose of a matrix. Bare in mind the **matrix dimensions**, which is very crucial!! "
   ]
  },
  {
   "cell_type": "code",
   "execution_count": null,
   "metadata": {},
   "outputs": [],
   "source": [
    "plt.figure(2)\n",
    "# TODO: Verify by plot\n",
    "\n",
    "plt.show()"
   ]
  },
  {
   "cell_type": "markdown",
   "metadata": {},
   "source": [
    "Note that the axis may have been flipped, but it does not matter!"
   ]
  }
 ],
 "metadata": {
  "kernelspec": {
   "display_name": "Python 3",
   "language": "python",
   "name": "python3"
  },
  "language_info": {
   "codemirror_mode": {
    "name": "ipython",
    "version": 3
   },
   "file_extension": ".py",
   "mimetype": "text/x-python",
   "name": "python",
   "nbconvert_exporter": "python",
   "pygments_lexer": "ipython3",
   "version": "3.6.12"
  }
 },
 "nbformat": 4,
 "nbformat_minor": 2
}
