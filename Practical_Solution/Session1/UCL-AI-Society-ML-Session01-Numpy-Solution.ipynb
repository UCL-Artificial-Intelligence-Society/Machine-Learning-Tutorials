{
 "cells": [
  {
   "cell_type": "markdown",
   "metadata": {},
   "source": [
    "# UCL AI Society Machine Learning Tutorials\n",
    "### Session 01. Introduction to Numpy, Pandas and Matplotlib Libraries"
   ]
  },
  {
   "cell_type": "markdown",
   "metadata": {},
   "source": [
    "### Contents\n",
    "1. Numpy\n",
    "2. Pandas\n",
    "3. Matplotlib\n",
    "\n",
    "### Aim\n",
    "At the end of this session, you will be able to:\n",
    "- Understand the basics of numpy.\n",
    "- Understand the basics of pandas.\n",
    "- Understand the basics of matplotlib.\n",
    "- Build a simple EDA (Exploratory Data Analysis) using above libraries."
   ]
  },
  {
   "cell_type": "markdown",
   "metadata": {},
   "source": [
    "## 1. Numpy\n",
    "In recent years, Python have been highlighted as a programming language in the field of data science because it is easy to learn and supported by a number of scientific computing libraries. Numpy is one of the vital library that deals with data and enables users to compute multi-dimensional array data structure more efficiently and easier.\n",
    "\n",
    "### 1.1 Basics of Numpy"
   ]
  },
  {
   "cell_type": "code",
   "execution_count": 1,
   "metadata": {},
   "outputs": [
    {
     "name": "stdout",
     "output_type": "stream",
     "text": [
      "Requirement already satisfied: numpy in c:\\users\\hjkoo\\anaconda3\\lib\\site-packages (1.16.2)\n"
     ]
    }
   ],
   "source": [
    "# Run this shell if you didn't install numpy\n",
    "!pip install numpy"
   ]
  },
  {
   "cell_type": "code",
   "execution_count": 2,
   "metadata": {
    "scrolled": true
   },
   "outputs": [
    {
     "name": "stdout",
     "output_type": "stream",
     "text": [
      "1.16.2\n"
     ]
    }
   ],
   "source": [
    "import numpy as np\n",
    "print(np.__version__)"
   ]
  },
  {
   "cell_type": "code",
   "execution_count": 3,
   "metadata": {},
   "outputs": [
    {
     "name": "stdout",
     "output_type": "stream",
     "text": [
      "Type of a:  <class 'numpy.ndarray'>\n",
      "Shape of a:  (4,)\n",
      "The first element of a:  1\n",
      "The last element of a:  4\n"
     ]
    }
   ],
   "source": [
    "a = np.array([1, 2, 3, 4]) # create a rank 1 array\n",
    "print(\"Type of a: \", type(a))\n",
    "print(\"Shape of a: \", a.shape)\n",
    "print(\"The first element of a: \", a[0])\n",
    "print(\"The last element of a: \", a[-1])"
   ]
  },
  {
   "cell_type": "code",
   "execution_count": 4,
   "metadata": {
    "scrolled": false
   },
   "outputs": [
    {
     "name": "stdout",
     "output_type": "stream",
     "text": [
      "Matrix b\n",
      "[[1. 1.]\n",
      " [1. 1.]]\n",
      "\n",
      "Matrix c\n",
      "[[1. 1.]\n",
      " [1. 1.]]\n",
      "\n",
      "Matrix d\n",
      "[[1. 0. 0.]\n",
      " [0. 1. 0.]\n",
      " [0. 0. 1.]]\n",
      "\n",
      "Matrix e\n",
      "[[0.41365297 0.97235825]\n",
      " [0.15417012 0.75654831]]\n"
     ]
    }
   ],
   "source": [
    "# create an array full of ones\n",
    "b = np.ones((2, 2))\n",
    "print(\"Matrix b\")\n",
    "print(b)\n",
    "\n",
    "# create an array full of zeros\n",
    "c = np.zeros((2, 3))\n",
    "print(\"\\nMatrix c\")\n",
    "print(b)\n",
    "\n",
    "# create an identity matrix\n",
    "d = np.eye(3)\n",
    "print(\"\\nMatrix d\")\n",
    "print(d)\n",
    "\n",
    "# create an array filled with random numbers between 0 and 1\n",
    "e = np.random.random((2, 2))\n",
    "print(\"\\nMatrix e\")\n",
    "print(e)"
   ]
  },
  {
   "cell_type": "markdown",
   "metadata": {},
   "source": [
    "### 1.2 Matrix of Numpy"
   ]
  },
  {
   "cell_type": "markdown",
   "metadata": {},
   "source": [
    "- `np.transpose()` : Transpose of an array\n",
    "- `np.dot(a, b)` : Dot product of two arrays\n",
    "- `np.linalg.inv()` : Inverse matrix of an array (only valid to square matrix, having the dimension of n * n)\n",
    "- `np.diagonal()` : Diagonal components of an array\n",
    "- `a.reshape(row = x, column = y)` : Reshape an array"
   ]
  },
  {
   "cell_type": "code",
   "execution_count": 5,
   "metadata": {},
   "outputs": [],
   "source": [
    "x = np.array([\n",
    "    [3, 11, 1],\n",
    "    [7, 5, 2],\n",
    "    [6, 8, 9],\n",
    "    [0, 10, 4]\n",
    "])"
   ]
  },
  {
   "cell_type": "code",
   "execution_count": 6,
   "metadata": {},
   "outputs": [
    {
     "name": "stdout",
     "output_type": "stream",
     "text": [
      "[[ 3  7  6  0]\n",
      " [11  5  8 10]\n",
      " [ 1  2  9  4]]\n"
     ]
    }
   ],
   "source": [
    "# To Do: Transpose an array\n",
    "# Expected outcome:\n",
    "# [[ 3  7  6  0]\n",
    "#  [11  5  8 10]\n",
    "#  [ 1  2  9  4]]\n",
    "transpose_x = np.transpose(x)\n",
    "print(transpose_x)"
   ]
  },
  {
   "cell_type": "code",
   "execution_count": 7,
   "metadata": {},
   "outputs": [
    {
     "name": "stdout",
     "output_type": "stream",
     "text": [
      "[[131  78 115 114]\n",
      " [ 78  78 100  58]\n",
      " [115 100 181 116]\n",
      " [114  58 116 116]]\n"
     ]
    }
   ],
   "source": [
    "# To Do: Dot product of two arrays: original x and transposed x\n",
    "# Expected outcome:\n",
    "# [[131  78 115 114]\n",
    "#  [ 78  78 100  58]\n",
    "#  [115 100 181 116]\n",
    "#  [114  58 116 116]]\n",
    "y = np.dot(x, transpose_x)\n",
    "print(y)"
   ]
  },
  {
   "cell_type": "code",
   "execution_count": 8,
   "metadata": {},
   "outputs": [
    {
     "name": "stdout",
     "output_type": "stream",
     "text": [
      "[3 5 9]\n"
     ]
    }
   ],
   "source": [
    "# To Do: Extract the diagonal elements of an array\n",
    "# Expected outcome: [3 5 9]\n",
    "diag_x = np.diagonal(x)\n",
    "print(diag_x)"
   ]
  },
  {
   "cell_type": "code",
   "execution_count": 9,
   "metadata": {},
   "outputs": [
    {
     "name": "stdout",
     "output_type": "stream",
     "text": [
      "[[ 3 11]\n",
      " [ 1  7]\n",
      " [ 5  2]\n",
      " [ 6  8]\n",
      " [ 9  0]\n",
      " [10  4]]\n"
     ]
    }
   ],
   "source": [
    "# To Do: Reshape an array to columns of 2 and rows of 6\n",
    "# Expected outcome: \n",
    "# [[ 3 11]\n",
    "#  [ 1  7]\n",
    "#  [ 5  2]\n",
    "#  [ 6  8]\n",
    "#  [ 9  0]\n",
    "#  [10  4]]\n",
    "reshape_x = x.reshape(6, 2)\n",
    "print(reshape_x)"
   ]
  },
  {
   "cell_type": "markdown",
   "metadata": {},
   "source": [
    "### 1.3 Statistics of Numpy"
   ]
  },
  {
   "cell_type": "markdown",
   "metadata": {},
   "source": [
    "- `np.sum()` : Array-wise sum\n",
    "- `np.max()` : Array-wise maximum value\n",
    "- `np.min(axis = 0)` : Minimum value of an array row\n",
    "- `np.mean()` : Mean\n",
    "- `np.median()` : Median\n",
    "- `np.std()` : Standard deviation\n",
    "- `np.corrcoef()` : Correlation coefficient [Correlation coefficient on Wikipedia](https://en.wikipedia.org/wiki/Correlation_coefficient)"
   ]
  },
  {
   "cell_type": "code",
   "execution_count": 10,
   "metadata": {},
   "outputs": [],
   "source": [
    "x = np.array(\n",
    "    [34, 56, 6, 3, 9, 89, 120, 12, 201],\n",
    "    dtype = np.int32\n",
    ")"
   ]
  },
  {
   "cell_type": "code",
   "execution_count": 11,
   "metadata": {},
   "outputs": [
    {
     "name": "stdout",
     "output_type": "stream",
     "text": [
      "530\n"
     ]
    }
   ],
   "source": [
    "# To Do: Summation of elements \n",
    "# Expected outcome: 530\n",
    "sum = np.sum(x)\n",
    "print(sum)"
   ]
  },
  {
   "cell_type": "code",
   "execution_count": 12,
   "metadata": {},
   "outputs": [
    {
     "name": "stdout",
     "output_type": "stream",
     "text": [
      "3\n"
     ]
    }
   ],
   "source": [
    "# To Do: Minimum element in the array\n",
    "# Expected outcome: 3\n",
    "min = np.min(x)\n",
    "print(min)"
   ]
  },
  {
   "cell_type": "code",
   "execution_count": 13,
   "metadata": {},
   "outputs": [
    {
     "name": "stdout",
     "output_type": "stream",
     "text": [
      "201\n"
     ]
    }
   ],
   "source": [
    "# To Do: Maximum element in the array\n",
    "# Expected outcome: 201\n",
    "max = np.max(x)\n",
    "print(max)"
   ]
  },
  {
   "cell_type": "code",
   "execution_count": 14,
   "metadata": {},
   "outputs": [
    {
     "name": "stdout",
     "output_type": "stream",
     "text": [
      "58.888888888888886\n"
     ]
    }
   ],
   "source": [
    "# To Do: Average value of elements in the array\n",
    "# Expected outcome: 58.89\n",
    "mean = np.mean(x)\n",
    "print(mean)"
   ]
  },
  {
   "cell_type": "code",
   "execution_count": 15,
   "metadata": {},
   "outputs": [
    {
     "name": "stdout",
     "output_type": "stream",
     "text": [
      "34.0\n"
     ]
    }
   ],
   "source": [
    "# To Do: Median element in the array\n",
    "# Expected outcome: 34.0\n",
    "median = np.median(x)\n",
    "print(median)"
   ]
  },
  {
   "cell_type": "code",
   "execution_count": 16,
   "metadata": {},
   "outputs": [
    {
     "name": "stdout",
     "output_type": "stream",
     "text": [
      "63.3095471902311\n"
     ]
    }
   ],
   "source": [
    "# To Do: Standard deviation of the array\n",
    "# Expected outcome: 63.3095471902311\n",
    "std = np.std(x)\n",
    "print(std)"
   ]
  },
  {
   "cell_type": "markdown",
   "metadata": {},
   "source": [
    "### 1.4 Exersies"
   ]
  },
  {
   "cell_type": "code",
   "execution_count": 17,
   "metadata": {},
   "outputs": [],
   "source": [
    "x = np.array([\n",
    "    [1, 52, 22, 2, 31, 65, 7, 8, 24, 10],\n",
    "    [12, 2322, 33, 1, 2, 3, 99, 24, 1, 42],\n",
    "    [623, 24, 3, 56, 5, 2, 7, 85, 22, 110],\n",
    "    [63, 4, 3, 4, 5, 64, 7, 82, 3, 20],\n",
    "    [48, 8, 3, 24, 57, 63, 7, 8, 9, 1032],\n",
    "    [33, 64, 0, 24, 5, 6, 72, 832, 3, 10],\n",
    "    [12, 242, 2, 11, 52, 63, 32, 8, 96, 2],\n",
    "    [13, 223, 52, 4, 35, 62, 7, 8, 9, 10],\n",
    "    [19, 2, 3, 149, 15, 6, 172, 2, 2, 11],\n",
    "    [34, 23, 32, 24, 54, 63, 1, 5, 92, 7]\n",
    "])"
   ]
  },
  {
   "cell_type": "code",
   "execution_count": 18,
   "metadata": {},
   "outputs": [
    {
     "data": {
      "text/plain": [
       "(10, 10)"
      ]
     },
     "execution_count": 18,
     "metadata": {},
     "output_type": "execute_result"
    }
   ],
   "source": [
    "x.shape"
   ]
  },
  {
   "cell_type": "code",
   "execution_count": 19,
   "metadata": {},
   "outputs": [
    {
     "name": "stdout",
     "output_type": "stream",
     "text": [
      "[  1  12 623  63  48  33  12  13  19  34]\n"
     ]
    }
   ],
   "source": [
    "# To Do: Extract the first column of x\n",
    "# expected outcome: [1 12 623 63 48 33 12 13 19 34]\n",
    "firstcol_x = x[:, 0]\n",
    "print(firstcol_x)"
   ]
  },
  {
   "cell_type": "code",
   "execution_count": 20,
   "metadata": {},
   "outputs": [
    {
     "name": "stdout",
     "output_type": "stream",
     "text": [
      "[34 23 32 24 54 63  1  5 92  7]\n"
     ]
    }
   ],
   "source": [
    "# To Do: extract the last row of x\n",
    "# expected outcome: [34 23 32 24 54 63 1 5 92 7]\n",
    "lastrow_x = x[-1, :]\n",
    "print(lastrow_x)"
   ]
  },
  {
   "cell_type": "code",
   "execution_count": 21,
   "metadata": {},
   "outputs": [
    {
     "name": "stdout",
     "output_type": "stream",
     "text": [
      "33.5\n"
     ]
    }
   ],
   "source": [
    "# To Do: calculate the mean of elements in the last row\n",
    "# expected outcome: 33.5\n",
    "mean_lastrow = np.mean(lastrow_x)\n",
    "print(mean_lastrow)"
   ]
  },
  {
   "cell_type": "code",
   "execution_count": 22,
   "metadata": {},
   "outputs": [
    {
     "name": "stdout",
     "output_type": "stream",
     "text": [
      "[   1 2322    3    4   57    6   32    8    2    7]\n"
     ]
    }
   ],
   "source": [
    "# To Do : calculate the diagonal components of x\n",
    "# expected outcome: [1 2322 3 4 57 6 32 8 2 7]\n",
    "diag_x = np.diagonal(x)\n",
    "print(diag_x)"
   ]
  },
  {
   "cell_type": "code",
   "execution_count": 23,
   "metadata": {},
   "outputs": [
    {
     "name": "stdout",
     "output_type": "stream",
     "text": [
      "479979.9600000001\n"
     ]
    }
   ],
   "source": [
    "# To Do: calculate the variatoin of the Diagonal components of x\n",
    "# expected outcome: 479979.9600000001\n",
    "var_diag = np.var(diag_x)\n",
    "print(var_diag)"
   ]
  },
  {
   "cell_type": "markdown",
   "metadata": {},
   "source": [
    "### 1.5 (Advanced)  Numpy Problem"
   ]
  },
  {
   "cell_type": "code",
   "execution_count": 24,
   "metadata": {},
   "outputs": [],
   "source": [
    "def solution():\n",
    "    prime = [2, 3, 5, 7, 11]\n",
    "\n",
    "    matrix = [\n",
    "        # TODO: Try making your own matrix by using the list 'prime'\n",
    "        # TODO: Try doing sth awesome. Don't just write tons of numbers\n",
    "                [x * prime[0] for x in range(1, 6)],\n",
    "                [x * prime[1] for x in range(1, 6)],\n",
    "                [x * prime[2] for x in range(1, 6)],\n",
    "                [x * prime[3] for x in range(1, 6)],\n",
    "                [x * prime[4] for x in range(1, 6)]\n",
    "              ]\n",
    "    # TODO: make it a numpy array\n",
    "    matrix = np.array(matrix)\n",
    "    # TODO: What is Diagonal of the above matrix?\n",
    "    matrix_dia = np.diagonal(matrix)\n",
    "\n",
    "    # TODO: What are the sum and mean of the diagonal components?\n",
    "    dia_sum = np.sum(matrix_dia)\n",
    "    dia_mean = np.mean(matrix_dia)\n",
    "\n",
    "    return matrix, dia_sum, dia_mean"
   ]
  },
  {
   "cell_type": "code",
   "execution_count": 25,
   "metadata": {},
   "outputs": [],
   "source": [
    "# Function for printing your answers\n",
    "def print_answer(**kwargs):\n",
    "    for key in kwargs.keys():\n",
    "        print(key, \":\", kwargs[key])"
   ]
  },
  {
   "cell_type": "code",
   "execution_count": 26,
   "metadata": {},
   "outputs": [],
   "source": [
    "matrix, dia_sum, dia_mean = solution()"
   ]
  },
  {
   "cell_type": "code",
   "execution_count": 27,
   "metadata": {},
   "outputs": [
    {
     "name": "stdout",
     "output_type": "stream",
     "text": [
      "matrix : [[ 2  4  6  8 10]\n",
      " [ 3  6  9 12 15]\n",
      " [ 5 10 15 20 25]\n",
      " [ 7 14 21 28 35]\n",
      " [11 22 33 44 55]]\n",
      "dia_sum : 106\n",
      "dia_mean : 21.2\n"
     ]
    }
   ],
   "source": [
    "print_answer(matrix=matrix, dia_sum=dia_sum, dia_mean=dia_mean)"
   ]
  },
  {
   "cell_type": "markdown",
   "metadata": {},
   "source": [
    "### What to do next?\n",
    "Below websites would be helpful for your further study on numpy library:\n",
    "- [A Visual Intro to NumPy and Data Representation](https://jalammar.github.io/visual-numpy/?fbclid=IwAR2MT-imY4dKpUcfHWfjdPOROUBadObVO7Wftf1detHWZCxSwNeA5paVI08)\n",
    "- [Stanford CS231n Python Numpy Tutorial](http://cs231n.github.io/python-numpy-tutorial/)\n",
    "- [DataCamp Python Numpy Array Tutorial](https://www.datacamp.com/community/tutorials/python-numpy-tutorial)\n",
    "- [Machine Learning Plus 101 Numpy Exercises for Data Analysis (Python)](https://www.machinelearningplus.com/python/101-numpy-exercises-python/)"
   ]
  },
  {
   "cell_type": "code",
   "execution_count": null,
   "metadata": {},
   "outputs": [],
   "source": []
  }
 ],
 "metadata": {
  "kernelspec": {
   "display_name": "Python 3",
   "language": "python",
   "name": "python3"
  },
  "language_info": {
   "codemirror_mode": {
    "name": "ipython",
    "version": 3
   },
   "file_extension": ".py",
   "mimetype": "text/x-python",
   "name": "python",
   "nbconvert_exporter": "python",
   "pygments_lexer": "ipython3",
   "version": "3.7.3"
  }
 },
 "nbformat": 4,
 "nbformat_minor": 2
}
