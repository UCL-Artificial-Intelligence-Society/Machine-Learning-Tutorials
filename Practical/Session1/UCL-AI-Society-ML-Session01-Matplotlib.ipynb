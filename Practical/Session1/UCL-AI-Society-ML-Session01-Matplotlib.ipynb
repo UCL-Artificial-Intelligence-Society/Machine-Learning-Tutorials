{
 "cells": [
  {
   "cell_type": "markdown",
   "metadata": {},
   "source": [
    "# UCL AI Society Machine Learning Tutorials\n",
    "### Session 01. Introduction to Numpy, Pandas and Matplotlib Libraries"
   ]
  },
  {
   "cell_type": "markdown",
   "metadata": {},
   "source": [
    "### Contents\n",
    "1. Numpy\n",
    "2. Pandas\n",
    "3. Matplotlib\n",
    "\n",
    "### Aim\n",
    "At the end of this session, you will be able to:\n",
    "- Understand the basics of numpy.\n",
    "- Understand the basics of pandas.\n",
    "- Understand the basics of matplotlib.\n",
    "- Build a simple EDA (Exploratory Data Analysis) using above libraries."
   ]
  },
  {
   "cell_type": "markdown",
   "metadata": {},
   "source": [
    "## 3. Matplotlib\n",
    "Matplotlib is a Python data visualisation library.Its plotting system is similar to that of MATLAB."
   ]
  },
  {
   "cell_type": "markdown",
   "metadata": {},
   "source": [
    "### 3.1 Basics of Matplotlib"
   ]
  },
  {
   "cell_type": "code",
   "execution_count": null,
   "metadata": {},
   "outputs": [],
   "source": [
    "# run this cell if you haven't installed matplotlib\n",
    "!pip install matplotlib"
   ]
  },
  {
   "cell_type": "markdown",
   "metadata": {},
   "source": [
    "- `%matplotlib inline` is only available for the Jupyter Notebook and Jupyter QtConsole. With this backend, the output of plotting commands is displayed inline within frontends, directly below the code cell that produce it.\n",
    "- `%matplotlib tk` is also only available for the Jupyter Notebook, and with this, the output of plotting commands is displayed on new broswer."
   ]
  },
  {
   "cell_type": "code",
   "execution_count": null,
   "metadata": {},
   "outputs": [],
   "source": [
    "import numpy as np\n",
    "import pandas as pd\n",
    "import matplotlib.pyplot as plt\n",
    "%matplotlib inline\n",
    "# %matplotlib tk"
   ]
  },
  {
   "cell_type": "markdown",
   "metadata": {},
   "source": [
    "Plot **y=sin(x)** graph."
   ]
  },
  {
   "cell_type": "code",
   "execution_count": null,
   "metadata": {},
   "outputs": [],
   "source": [
    "# declare x and y \n",
    "x = np.arange(0, 3 * np.pi, 0.1)\n",
    "y = np.sin(x)"
   ]
  },
  {
   "cell_type": "code",
   "execution_count": null,
   "metadata": {},
   "outputs": [],
   "source": [
    "# plot a graph of sin(x)\n",
    "plt.plot(x, y)\n",
    "plt.xlabel('x')\n",
    "plt.ylabel('y')\n",
    "plt.grid()\n",
    "plt.title('y = sin(x)')\n",
    "plt.show()"
   ]
  },
  {
   "cell_type": "markdown",
   "metadata": {},
   "source": [
    "Plot multiple functions of **y = x**, **y = x^2**, and **y = x^3** in one graph."
   ]
  },
  {
   "cell_type": "code",
   "execution_count": null,
   "metadata": {},
   "outputs": [],
   "source": [
    "# plot multiple graphs in one graph\n",
    "x = np.arange(10)\n",
    "x_linear = x\n",
    "x_square = x ** 2\n",
    "x_cubic = x ** 3\n",
    "\n",
    "plt.plot(x, x_linear)\n",
    "plt.plot(x, x_square)\n",
    "plt.plot(x, x_cubic)\n",
    "plt.xlabel('x axis')\n",
    "plt.ylabel('y axis')\n",
    "plt.grid()\n",
    "plt.legend(['y = x', 'y = x^2', 'y = x^3'])\n",
    "plt.title('y = x, y = x^2 and y = x^3')\n",
    "plt.show()"
   ]
  },
  {
   "cell_type": "markdown",
   "metadata": {},
   "source": [
    "### 3.2 Various Types of Plots\n",
    "Matplotlib library supports varied plots such as bar graph, histogram, scatter plot, area plot and pie plot. For plotting graphs, IMDB-Movie-Data file will be re-loaded."
   ]
  },
  {
   "cell_type": "code",
   "execution_count": null,
   "metadata": {},
   "outputs": [],
   "source": [
    "movie = pd.read_csv(\"./data/IMDB-Movie-Data.csv\")\n",
    "movie.columns"
   ]
  },
  {
   "cell_type": "markdown",
   "metadata": {},
   "source": [
    "Let's see if there is a positive correlation between `Rating` and `Revenue (Millions)` using `scatter` function. `s` controls the diameter of circles and `alpha` controls the degree of transparency."
   ]
  },
  {
   "cell_type": "code",
   "execution_count": null,
   "metadata": {
    "scrolled": false
   },
   "outputs": [],
   "source": [
    "movie.plot.scatter(x = 'Rating', y = 'Revenue (Millions)', s = 10, alpha = 1)"
   ]
  },
  {
   "cell_type": "markdown",
   "metadata": {},
   "source": [
    "There is a positive relationship but not that strong. Let's look into current share of programming languages that are widely used in business sector.\n",
    "\n",
    "Use `plt.bar` and `plt.xticks` to plot a graph of Percentage over language."
   ]
  },
  {
   "cell_type": "code",
   "execution_count": null,
   "metadata": {},
   "outputs": [],
   "source": [
    "# Data\n",
    "language = [\"JavaScript\", \"HTML/CSS\", \"SQL\", \"Python\", \"Java\"]\n",
    "percentage = [67.8, 63.5, 54.4, 41.7, 41.1]\n",
    "\n",
    "# Generating the y positions\n",
    "y_positions = range(len(percentage))\n",
    "\n",
    "# % To Do: Create bar plot\n",
    "None\n",
    "None\n",
    "None\n",
    "None\n",
    "None\n",
    "None"
   ]
  },
  {
   "cell_type": "markdown",
   "metadata": {},
   "source": [
    "### 3.3 (Advanced) Matplotlib Exercise"
   ]
  },
  {
   "cell_type": "code",
   "execution_count": null,
   "metadata": {},
   "outputs": [],
   "source": [
    "# TODO: Draw 4 graphs in total in one figure\n",
    "# TODO: For data to put in graphs, just create your own random data with numpy\n",
    "fig, axes = None\n",
    "\n",
    "# TODO: Scatter Graph\n",
    "x = np.random.randn(50)\n",
    "y = np.random.randn(50)\n",
    "None\n",
    "None\n",
    "None\n",
    "\n",
    "# TODO: Bar Graph\n",
    "x = np.arange(10)\n",
    "None\n",
    "\n",
    "# TODO: Multi-Bar Graph\n",
    "x = np.random.rand(3)\n",
    "y = np.random.rand(3)\n",
    "z = np.random.rand(3)\n",
    "multi_data = [x, y, z]\n",
    "\n",
    "None\n",
    "None\n",
    "None\n",
    "None\n",
    "None\n",
    "\n",
    "# TODO: Histogram Graph\n",
    "data = np.random.randn(1000)\n",
    "None\n",
    "\n",
    "# TODO: Show the image and save it to png file\n",
    "None\n",
    "None"
   ]
  },
  {
   "cell_type": "markdown",
   "metadata": {},
   "source": [
    "### What to do next?\n",
    "Below websites would be helpful for your further study on matplotlib:\n",
    "- [DataCamp Matplotlib Tutorial: Python Plotting](https://www.datacamp.com/community/tutorials/matplotlib-tutorial-python)\n",
    "- [Matplotlib official website](https://matplotlib.org/#)\n",
    "- [Python Plotting With Matplotlib (Guide)](https://realpython.com/python-matplotlib-guide/)\n",
    "- [Different plotting using pandas and matplotlib](https://www.geeksforgeeks.org/different-plotting-using-pandas-and-matplotlib/)\n",
    "- [Matplotlib tutorial for beginner](https://github.com/rougier/matplotlib-tutorial)"
   ]
  },
  {
   "cell_type": "code",
   "execution_count": null,
   "metadata": {},
   "outputs": [],
   "source": []
  }
 ],
 "metadata": {
  "kernelspec": {
   "display_name": "Python 3",
   "language": "python",
   "name": "python3"
  },
  "language_info": {
   "codemirror_mode": {
    "name": "ipython",
    "version": 3
   },
   "file_extension": ".py",
   "mimetype": "text/x-python",
   "name": "python",
   "nbconvert_exporter": "python",
   "pygments_lexer": "ipython3",
   "version": "3.7.3"
  }
 },
 "nbformat": 4,
 "nbformat_minor": 2
}
